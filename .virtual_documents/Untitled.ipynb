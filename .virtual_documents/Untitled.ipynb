import requests
import pytesseract
import cv2
from PIL import Image 
from IPython.display import HTML, clear_output
import numpy as np 
import pandas as pd 
import matplotlib as plt





img = Image.open('/Users/krushna/Downloads/1688750-William-Shakespeare-Quote-One-travels-long-distances-not-solely.jpg')
img_path = '/Users/krushna/Downloads/3ae888f0-05dc-43ce-9184-e6681b0ba565.jpeg'
img.resize((100,100))
img.save("new_img.jpeg")


#Extract 
custom_config = ' -l eng --oem 3 --psm 6'
my_extract_text = pytesseract.image_to_string(img, config = custom_config)
print(my_extract_text)


# Remove irregular symbols 
try:
    remove_char = "()@-*""/,+=*|^&~`"
    temp = my_extract_text
    for char in remove_char:
        temp = temp.replace(char, "")
    print(temp)
except IOError as e:
    print("Error (%s)" %e)
    
    


# Opencv
img_data = cv2.imread('/Users/krushna/Downloads/1688750-William-Shakespeare-Quote-One-travels-long-distances-not-solely.jpg')


def transform_greyscale(image):
    return cv2.cvtColor(image, cv2.COLOR_BGR2GRAY)
gray_image = transform_greyscale(img_data)
gray_image


Image.fromarray(gray_image)


# noise removal
def noise_removal(image):
    return  cv2.medianBlur(image,7)

noise_removal_image = noise_removal(gray_image)
Image.fromarray(noise_removal_image)


# Threshold tarnsformation 
def threshold_transform(image):
    return cv2.threshold(image, 0, 255, cv2.THRESH_BINARY + cv2.THRESH_OTSU)[1]

threshold_image = threshold_transform(gray_image)
Image.fromarray(threshold_image)






